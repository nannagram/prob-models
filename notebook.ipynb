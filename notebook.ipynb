{
 "cells": [
  {
   "cell_type": "markdown",
   "metadata": {},
   "source": [
    "# Notebook to run the gaussian regularized alghorithms "
   ]
  },
  {
   "cell_type": "code",
   "execution_count": 11,
   "metadata": {},
   "outputs": [
    {
     "data": {
      "text/plain": [
       "<module 'utils' from 'c:\\\\Users\\\\Francesca\\\\OneDrive\\\\Documenti\\\\BrainHack\\\\prob-models\\\\utils.py'>"
      ]
     },
     "execution_count": 11,
     "metadata": {},
     "output_type": "execute_result"
    }
   ],
   "source": [
    "import utils \n",
    "\n",
    "utils.read_add_paths('paths.txt')\n",
    "paths = utils.read_paths('paths.txt')\n",
    "\n",
    "\n",
    "import estimators as es \n",
    "import numpy as np\n",
    "import os\n",
    "import importlib\n",
    "\n",
    "\n",
    "importlib.reload(utils)"
   ]
  },
  {
   "cell_type": "code",
   "execution_count": null,
   "metadata": {},
   "outputs": [],
   "source": [
    "nsamples = 200\n",
    "nfeatures = 116\n",
    "\n",
    "X = np.random.randn(nsamples, nfeatures)  # dummy dataset with true covariance I\n",
    "Xtrain = X[:int(0.8*nsamples)]\n",
    "Xtest = X[int(0.8*nsamples):]\n",
    "\n",
    "res = es.fit_PCA(Xtrain, Xtest, ncomponents=10)\n",
    "# res = es.fit_PCA_CV(Xtrain, Xtest, cv_scoring=\"likelihood\", n_jobs=None)\n",
    "# res = es.fit_PCA_Minka(Xtrain, Xtest)\n",
    "# res = es.fit_ConservativePCA(Xtrain, Xtest, p=10)\n",
    "# res = es.fit_ConservativePCA_CV(Xtrain, Xtest, cv_scoring=\"likelihood\", n_jobs=None)\n",
    "# res = es.fit_FactorAnalysis(Xtrain, Xtest)\n",
    "# res = es.fit_FactorAnalysis_CV(Xtrain, Xtest, cv_scoring=\"likelihood\", n_jobs=None)\n",
    "# res = es.fit_GraphicalLasso(Xtrain, Xtest, alpha=0.1)\n",
    "# res = es.fit_GraphicalLasso_CV(Xtrain, Xtest, n_jobs=None)\n",
    "# res = es.fit_Shrinkage(Xtrain, Xtest, shrinkage=0.1)\n",
    "# res = es.fit_Shrinkage_CV(Xtrain, Xtest, shrinkages=None,  cv_scoring=\"likelihood\", n_jobs=None)\n",
    "# res = es.fit_RIE(Xtrain, Xtest)\n",
    "# res = es.fit_RIE_CV(Xtrain, Xtest, cv_scoring=\"likelihood\", n_jobs=None)\n",
    "# res = es.fit_GradientAscent(Xtrain, Xtest, bootstrapping=False, stop='completion', val_frac=0.1)\n",
    "# res = es.fit_GradientAscentWishart(Xtrain, Xtest, bootstrapping=False, stop='completion', val_frac=0.1)\n",
    "\n",
    "C = X.T @ X / nsamples # empirical covariance\n",
    "Cclean = res[\"Cclean\"] # cleaned covariance\n"
   ]
  },
  {
   "cell_type": "code",
   "execution_count": 22,
   "metadata": {},
   "outputs": [],
   "source": [
    "datadic=utils.getdata(paths[-1])\n",
    "T,N=np.shape(datadic['032302'])\n",
    "\n"
   ]
  }
 ],
 "metadata": {
  "kernelspec": {
   "display_name": "bhl2024",
   "language": "python",
   "name": "python3"
  },
  "language_info": {
   "codemirror_mode": {
    "name": "ipython",
    "version": 3
   },
   "file_extension": ".py",
   "mimetype": "text/x-python",
   "name": "python",
   "nbconvert_exporter": "python",
   "pygments_lexer": "ipython3",
   "version": "3.12.0"
  }
 },
 "nbformat": 4,
 "nbformat_minor": 2
}
