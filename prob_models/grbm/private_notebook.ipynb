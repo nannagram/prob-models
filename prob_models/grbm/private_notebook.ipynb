{
 "cells": [
  {
   "cell_type": "code",
   "execution_count": 1,
   "metadata": {},
   "outputs": [],
   "source": [
    "import numpy as np\n",
    "from numpy.random import default_rng\n",
    "from pydeep.rbm.model import GaussianBinaryRBM\n",
    "import os\n",
    "import os.path as op\n",
    "import pandas as pd\n",
    "from prob_models.utils.utils import read_paths, getdata\n",
    "from pydeep.rbm.trainer import CD\n",
    "from pydeep.rbm.estimator import (partition_function_factorize_h, \n",
    "                                  log_likelihood_v, \n",
    "                                  reconstruction_error,\n",
    "                                  annealed_importance_sampling)"
   ]
  },
  {
   "cell_type": "code",
   "execution_count": null,
   "metadata": {},
   "outputs": [],
   "source": [
    "def split_train_test(X, train_fraction, standardize=False, shuffle=True, seed=None):\n",
    "    rng = default_rng(seed)\n",
    "    X = X.copy()\n",
    "    if shuffle:\n",
    "        rng.shuffle(X)\n",
    "    T, N = X.shape\n",
    "    Xtrain = X[:int(train_fraction*T)]\n",
    "    Xtest = X[int(train_fraction*T):]\n",
    "    if standardize:\n",
    "        avg = np.mean(Xtrain, axis=0)\n",
    "        Xtrain -= avg \n",
    "        std = np.std(Xtrain, axis=0)\n",
    "        Xtrain /= std\n",
    "        \n",
    "        Xtest -= avg\n",
    "        Xtest /= std\n",
    "\n",
    "\n",
    "    return Xtrain, Xtest\n",
    "\n",
    "\n",
    "def train_rbm(X_train, X_test, n_hid, epochs):\n",
    "    n_v = X_train.shape[-1]\n",
    "    variances = np.var(X_train, axis=0, keepdims=True)\n",
    "    \n",
    "    results = {}\n",
    "    epoch_module = 20\n",
    "    ll_trains = np.zeros((len(n_hid), int(epochs/epoch_module)+1))\n",
    "    ll_tests = np.zeros((len(n_hid), int(epochs/epoch_module)+1))\n",
    "    count = 0\n",
    "    \n",
    "\n",
    "    for n_h in n_hid:\n",
    "        print(f'\\nTraining with {n_h} hidden units')\n",
    "        count += 1\n",
    "        \n",
    "        grbm = GaussianBinaryRBM(number_visibles=n_v,\n",
    "                                number_hiddens=n_h,\n",
    "                                data=X1_train,initial_sigma=variances,\n",
    "                                initial_visible_offsets=0.0,\n",
    "                                initial_hidden_offsets=0.0)\n",
    "        trainer = CD(grbm)\n",
    "        \n",
    "        count_epoch = 0\n",
    "        for epoch in range(epochs):\n",
    "               \n",
    "            trainer.train(data = X_train)\n",
    "            \n",
    "            if epoch % epoch_module == 0:\n",
    "                count_epoch += 1 \n",
    "                print(f'Epoch {epoch}')\n",
    "                log_z = annealed_importance_sampling(grbm, status=False)\n",
    "                ll_trains[count-1, count_epoch-1] = np.mean(log_likelihood_v(grbm, log_z, X_train))\n",
    "                ll_tests[count-1, count_epoch-1] = np.mean(log_likelihood_v(grbm, log_z, X_test))\n",
    "                print('ll_train is', ll_trains[count-1, count_epoch-1])\n",
    "                print('ll_test is', ll_tests[count-1, count_epoch-1])\n",
    "        \n",
    "        ll_trains = np.array(ll_trains)\n",
    "        ll_tests = np.array(ll_tests)\n",
    "        print('Computing log-likelihood and reconstruction error...')\n",
    "        # log_z = partition_function_factorize_h(grbm, status=False)\n",
    "        log_z = annealed_importance_sampling(grbm, status=False)\n",
    "        ll_train = np.mean(log_likelihood_v(grbm, log_z, X_train))\n",
    "        ll_test = np.mean(log_likelihood_v(grbm, log_z, X_test))\n",
    "        re = np.mean(reconstruction_error(grbm, X_train))\n",
    "        print('...done')\n",
    "        \n",
    "        results[n_h] = {'ll_train': ll_train, 'll_test': ll_test, 're': re}\n",
    "        \n",
    "    results = pd.DataFrame.from_dict(results, orient='index')\n",
    "    return results, ll_trains, ll_tests"
   ]
  },
  {
   "cell_type": "code",
   "execution_count": null,
   "metadata": {},
   "outputs": [
    {
     "name": "stdout",
     "output_type": "stream",
     "text": [
      "X1 shape: (208, 114)\n",
      "\n",
      "Training with 2 hidden units\n",
      "Epoch 0\n",
      "ll_train is -162.7116537883756\n",
      "ll_test is -182.17212933583536\n",
      "Epoch 5\n",
      "ll_train is -162.49374946397901\n",
      "ll_test is -181.9050782664742\n",
      "Epoch 10\n",
      "ll_train is -162.2090871726\n",
      "ll_test is -181.5443566369948\n",
      "Epoch 15\n",
      "ll_train is -161.85478162560224\n",
      "ll_test is -181.0870280058585\n",
      "Epoch 20\n",
      "ll_train is -161.43113481732465\n",
      "ll_test is -180.54293500166622\n",
      "Computing log-likelihood and reconstruction error...\n",
      "...done\n",
      "\n",
      "Training with 5 hidden units\n",
      "Epoch 0\n",
      "ll_train is -164.1941357800096\n",
      "ll_test is -183.72699610260963\n",
      "Epoch 5\n",
      "ll_train is -163.09163085777558\n",
      "ll_test is -182.43861535280746\n",
      "Epoch 10\n",
      "ll_train is -161.88918783240783\n",
      "ll_test is -180.95657509763384\n",
      "Epoch 15\n",
      "ll_train is -160.50543687868665\n",
      "ll_test is -179.20472310439902\n",
      "Epoch 20\n",
      "ll_train is -158.96236113072067\n",
      "ll_test is -177.23354176383046\n",
      "Computing log-likelihood and reconstruction error...\n",
      "...done\n",
      "\n",
      "Training with 8 hidden units\n",
      "Epoch 0\n",
      "ll_train is -164.76153904694837\n",
      "ll_test is -184.19277911009462\n",
      "Epoch 5\n",
      "ll_train is -162.95392603211664\n",
      "ll_test is -182.07352315783373\n",
      "Epoch 10\n",
      "ll_train is -161.13547603795334\n",
      "ll_test is -179.81232889169925\n",
      "Epoch 15\n",
      "ll_train is -159.05678174114414\n",
      "ll_test is -177.16536757696144\n",
      "Epoch 20\n",
      "ll_train is -156.76125689127582\n",
      "ll_test is -174.23516872298578\n",
      "Computing log-likelihood and reconstruction error...\n",
      "...done\n",
      "     ll_train     ll_test        re\n",
      "2 -161.429919 -180.541720  0.979209\n",
      "5 -158.960644 -177.231824  0.908354\n",
      "8 -156.761940 -174.235852  0.857355\n"
     ]
    }
   ],
   "source": [
    "# Load data \n",
    "paths = read_paths(op.join(os.getcwd(), op.join('..', '..', 'paths.txt')))\n",
    "datadic = getdata(paths, dataset='CamCAN')\n",
    "T, N = np.shape(list(datadic.values())[0])\n",
    "\n",
    "tf = 0.8\n",
    "X1 = datadic[1]\n",
    "\n",
    "X1_train, X1_test = split_train_test(X1, train_fraction=tf, standardize=True, seed=0)\n",
    "print(f'X1 shape: {X1_train.shape}')\n",
    "\n",
    "n_hid = np.arange(2, 10, 3)\n",
    "epochs = 100\n",
    "results, ll_trains, ll_tests = train_rbm(X1_train, X1_test, n_hid, epochs)\n",
    "print(results)\n"
   ]
  },
  {
   "cell_type": "code",
   "execution_count": 11,
   "metadata": {},
   "outputs": [],
   "source": [
    "import matplotlib.pyplot as plt"
   ]
  },
  {
   "cell_type": "code",
   "execution_count": 28,
   "metadata": {},
   "outputs": [
    {
     "data": {
      "image/png": "[encoded data removed]",
      "text/plain": [
       "<Figure size 640x480 with 1 Axes>"
      ]
     },
     "metadata": {},
     "output_type": "display_data"
    }
   ],
   "source": [
    "for el, h in zip(ll_tests, n_hid):\n",
    "    plt.plot(el,'s-', label=f'{h} hidden units')\n",
    "plt.legend()\n",
    "plt.show()"
   ]
  },
  {
   "cell_type": "code",
   "execution_count": 15,
   "metadata": {},
   "outputs": [
    {
     "data": {
      "text/plain": [
       "(5, 22)"
      ]
     },
     "execution_count": 15,
     "metadata": {},
     "output_type": "execute_result"
    }
   ],
   "source": [
    "np.shape(ll_tests)"
   ]
  }
 ],
 "metadata": {
  "kernelspec": {
   "display_name": "covest",
   "language": "python",
   "name": "python3"
  },
  "language_info": {
   "codemirror_mode": {
    "name": "ipython",
    "version": 3
   },
   "file_extension": ".py",
   "mimetype": "text/x-python",
   "name": "python",
   "nbconvert_exporter": "python",
   "pygments_lexer": "ipython3",
   "version": "3.12.0"
  }
 },
 "nbformat": 4,
 "nbformat_minor": 2
}
