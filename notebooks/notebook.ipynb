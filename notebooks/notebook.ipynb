{
 "cells": [
  {
   "cell_type": "markdown",
   "metadata": {},
   "source": [
    "# Notebook to run the gaussian regularized alghorithms "
   ]
  },
  {
   "cell_type": "code",
   "execution_count": 1,
   "metadata": {},
   "outputs": [],
   "source": [
    "import numpy as np\n",
    "import matplotlib.pyplot as plt"
   ]
  },
  {
   "cell_type": "code",
   "execution_count": 7,
   "metadata": {},
   "outputs": [
    {
     "data": {
      "text/plain": [
       "<module 'prob_models.cov_estim.run_parallel' from '/Users/ariannaarmanetti/Smastruzzing/BrainHack2024/prob-models/prob_models/cov_estim/run_parallel.py'>"
      ]
     },
     "execution_count": 7,
     "metadata": {},
     "output_type": "execute_result"
    }
   ],
   "source": [
    "from prob_models.utils.utils import read_add_paths, read_paths, getdata\n",
    "\n",
    "import prob_models.cov_estim.estimators as es \n",
    "import prob_models.cov_estim.run_parallel as run\n",
    "import prob_models.cov_estim.utils as utils\n",
    "import os\n",
    "import importlib\n",
    "from prob_models.cov_estim.utils import *\n",
    "\n",
    "importlib.reload(utils)\n",
    "importlib.reload(run)"
   ]
  },
  {
   "cell_type": "code",
   "execution_count": 3,
   "metadata": {},
   "outputs": [],
   "source": [
    "nsamples = 200\n",
    "nfeatures = 116\n",
    "\n",
    "X = np.random.randn(nsamples, nfeatures)  # dummy dataset with true covariance I\n",
    "Xtrain = X[:int(0.8*nsamples)]\n",
    "Xtest = X[int(0.8*nsamples):]\n",
    "\n",
    "res = es.fit_PCA(Xtrain, Xtest, ncomponents=10)\n",
    "# res = es.fit_PCA_CV(Xtrain, Xtest, cv_scoring=\"likelihood\", n_jobs=None)\n",
    "# res = es.fit_PCA_Minka(Xtrain, Xtest)\n",
    "# res = es.fit_ConservativePCA(Xtrain, Xtest, p=10)\n",
    "# res = es.fit_ConservativePCA_CV(Xtrain, Xtest, cv_scoring=\"likelihood\", n_jobs=None)\n",
    "# res = es.fit_FactorAnalysis(Xtrain, Xtest)\n",
    "# res = es.fit_FactorAnalysis_CV(Xtrain, Xtest, cv_scoring=\"likelihood\", n_jobs=None)\n",
    "# res = es.fit_GraphicalLasso(Xtrain, Xtest, alpha=0.1)\n",
    "# res = es.fit_GraphicalLasso_CV(Xtrain, Xtest, n_jobs=None)\n",
    "# res = es.fit_Shrinkage(Xtrain, Xtest, shrinkage=0.1)\n",
    "# res = es.fit_Shrinkage_CV(Xtrain, Xtest, shrinkages=None,  cv_scoring=\"likelihood\", n_jobs=None)\n",
    "# res = es.fit_RIE(Xtrain, Xtest)\n",
    "# res = es.fit_RIE_CV(Xtrain, Xtest, cv_scoring=\"likelihood\", n_jobs=None)\n",
    "# res = es.fit_GradientAscent(Xtrain, Xtest, bootstrapping=False, stop='completion', val_frac=0.1)\n",
    "# res = es.fit_GradientAscentWishart(Xtrain, Xtest, bootstrapping=False, stop='completion', val_frac=0.1)\n",
    "\n",
    "C = X.T @ X / nsamples # empirical covariance\n",
    "Cclean = res[\"Cclean\"] # cleaned covariance\n"
   ]
  },
  {
   "cell_type": "code",
   "execution_count": 4,
   "metadata": {},
   "outputs": [
    {
     "name": "stdout",
     "output_type": "stream",
     "text": [
      "/Users/ariannaarmanetti/Downloads/data/iPA_183/ts/\n",
      "652 183\n"
     ]
    }
   ],
   "source": [
    "#load data\n",
    "paths=read_paths('/Users/ariannaarmanetti/Smastruzzing/Brainhack2024/prob-models/paths.txt')\n",
    "datadic=getdata(paths[-1])\n",
    "print(paths[-1])\n",
    "\n",
    "T,N=np.shape(datadic['032302'])\n",
    "print(T,N)\n",
    "\n",
    "\n",
    "\n"
   ]
  },
  {
   "cell_type": "code",
   "execution_count": 5,
   "metadata": {},
   "outputs": [
    {
     "data": {
      "text/plain": [
       "(136, 652, 183)"
      ]
     },
     "execution_count": 5,
     "metadata": {},
     "output_type": "execute_result"
    }
   ],
   "source": [
    "np.shape([el for el in datadic.values()]) "
   ]
  },
  {
   "cell_type": "code",
   "execution_count": 8,
   "metadata": {},
   "outputs": [
    {
     "name": "stdout",
     "output_type": "stream",
     "text": [
      "0\n",
      "1\n",
      "2\n"
     ]
    }
   ],
   "source": [
    "resfile = 'all_results_BIO.pickle'\n",
    "\n",
    "train_fraction = 0.8\n",
    "results={}\n",
    "\n",
    "for i,( key, X) in enumerate(datadic.items()):\n",
    "    if i<3:\n",
    "        print (i)\n",
    "        # Compute the corr mat C obtained flattening the training data from all patients\n",
    "        Cbar = computeCbar([el for el in datadic.values()], train_fraction=train_fraction)\n",
    "        Xtrain, Xtest = split_train_test(X, train_fraction=train_fraction, standardize=True, seed=i)\n",
    "        key,value=run.single_run(i, Xtrain, Xtest, Cbar=Cbar)\n",
    "        results[key]=value"
   ]
  },
  {
   "cell_type": "code",
   "execution_count": 9,
   "metadata": {},
   "outputs": [
    {
     "name": "stdout",
     "output_type": "stream",
     "text": [
      "Shrink_CV_likelihood 161.4996712066818\n",
      "RIE_CV_likelihood 143.03761108463695\n",
      "Shrink_CV_completion_error 166.39817622180493\n",
      "RIE_CV_completion_error 171.55130595277646\n"
     ]
    }
   ],
   "source": [
    "for key, val in results[0].items():\n",
    "    print (key,val['test_likelihood'])"
   ]
  }
 ],
 "metadata": {
  "kernelspec": {
   "display_name": "covest",
   "language": "python",
   "name": "python3"
  },
  "language_info": {
   "codemirror_mode": {
    "name": "ipython",
    "version": 3
   },
   "file_extension": ".py",
   "mimetype": "text/x-python",
   "name": "python",
   "nbconvert_exporter": "python",
   "pygments_lexer": "ipython3",
   "version": "3.12.0"
  }
 },
 "nbformat": 4,
 "nbformat_minor": 2
}
