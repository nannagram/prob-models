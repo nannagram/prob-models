{
 "cells": [
  {
   "cell_type": "markdown",
   "metadata": {},
   "source": [
    "# Notebook to run the gaussian regularized alghorithms "
   ]
  },
  {
   "cell_type": "code",
   "execution_count": null,
   "metadata": {},
   "outputs": [],
   "source": [
    "\n",
    "from prob_models.utils.utils import read_paths, getdata\n",
    "\n",
    "# read_add_paths('paths.txt')\n",
    "# paths = read_paths('paths.txt')\n",
    "\n",
    "import prob_models.cov_estim.estimators as es \n",
    "import prob_models.cov_estim.run_parallel as run\n",
    "from prob_models.cov_estim.utils import *\n",
    "import numpy as np\n",
    "import os\n",
    "import importlib\n",
    "import matplotlib.pyplot as plt\n",
    "\n",
    "# importlib.reload(run)\n"
   ]
  },
  {
   "cell_type": "code",
   "execution_count": null,
   "metadata": {},
   "outputs": [],
   "source": [
    "nsamples = 200\n",
    "nfeatures = 116\n",
    "\n",
    "X = np.random.randn(nsamples, nfeatures)  # dummy dataset with true covariance I\n",
    "Xtrain = X[:int(0.8*nsamples)]\n",
    "Xtest = X[int(0.8*nsamples):]\n",
    "\n",
    "res = es.fit_PCA(Xtrain, Xtest, ncomponents=10)\n",
    "# res = es.fit_PCA_CV(Xtrain, Xtest, cv_scoring=\"likelihood\", n_jobs=None)\n",
    "# res = es.fit_PCA_Minka(Xtrain, Xtest)\n",
    "# res = es.fit_ConservativePCA(Xtrain, Xtest, p=10)\n",
    "# res = es.fit_ConservativePCA_CV(Xtrain, Xtest, cv_scoring=\"likelihood\", n_jobs=None)\n",
    "# res = es.fit_FactorAnalysis(Xtrain, Xtest)\n",
    "# res = es.fit_FactorAnalysis_CV(Xtrain, Xtest, cv_scoring=\"likelihood\", n_jobs=None)\n",
    "# res = es.fit_GraphicalLasso(Xtrain, Xtest, alpha=0.1)\n",
    "# res = es.fit_GraphicalLasso_CV(Xtrain, Xtest, n_jobs=None)\n",
    "# res = es.fit_Shrinkage(Xtrain, Xtest, shrinkage=0.1)\n",
    "# res = es.fit_Shrinkage_CV(Xtrain, Xtest, shrinkages=None,  cv_scoring=\"likelihood\", n_jobs=None)\n",
    "# res = es.fit_RIE(Xtrain, Xtest)\n",
    "# res = es.fit_RIE_CV(Xtrain, Xtest, cv_scoring=\"likelihood\", n_jobs=None)\n",
    "# res = es.fit_GradientAscent(Xtrain, Xtest, bootstrapping=False, stop='completion', val_frac=0.1)\n",
    "# res = es.fit_GradientAscentWishart(Xtrain, Xtest, bootstrapping=False, stop='completion', val_frac=0.1)\n",
    "\n",
    "C = X.T @ X / nsamples # empirical covariance\n",
    "Cclean = res[\"Cclean\"] # cleaned covariance\n"
   ]
  },
  {
   "cell_type": "code",
   "execution_count": 2,
   "metadata": {},
   "outputs": [],
   "source": [
    "# Load data\n",
    "paths = read_paths(os.path.join(os.getcwd(), '../paths.txt'))\n",
    "datadic = getdata(paths[-1])\n",
    "T, N = np.shape(datadic['032302'])\n",
    "\n"
   ]
  },
  {
   "cell_type": "code",
   "execution_count": 3,
   "metadata": {},
   "outputs": [
    {
     "name": "stdout",
     "output_type": "stream",
     "text": [
      "0\n",
      "1\n"
     ]
    }
   ],
   "source": [
    "\n",
    "\n",
    "train_fraction = 0.8\n",
    "results={}\n",
    "\n",
    "for i,( key, X) in enumerate(datadic.items()):\n",
    "    if i<2:\n",
    "        print (i)\n",
    "        # Compute the corr mat C obtained flattening the training data from all patients\n",
    "        Cbar = computeCbar([el for el in datadic.values()], train_fraction=train_fraction)\n",
    "        Xtrain, Xtest = split_train_test(X, train_fraction=train_fraction, standardize=True, seed=i)\n",
    "        key,value=run.single_run(i, Xtrain, Xtest, Cbar=Cbar)\n",
    "        \n",
    "\n",
    "\n",
    "        #adding Raw estimator\n",
    "        J = np.linalg.inv(np.corrcoef(Xtrain.T))\n",
    "        te_lik=impl.likelihood_set_fast(J, Xtest)    \n",
    "        tr_lik=impl.likelihood_set_fast(J, Xtrain)\n",
    "        value['Raw']={'test_likelihood':te_lik,\n",
    "                      'train_likelihood':tr_lik}\n",
    "        \n",
    "        results[key]=value\n",
    "\n"
   ]
  },
  {
   "cell_type": "code",
   "execution_count": 6,
   "metadata": {},
   "outputs": [
    {
     "data": {
      "image/png": "[encoded data removed]",
      "text/plain": [
       "<Figure size 432x288 with 1 Axes>"
      ]
     },
     "metadata": {
      "needs_background": "light"
     },
     "output_type": "display_data"
    }
   ],
   "source": [
    "# file = open(filename, \"rb\")\n",
    "# results=pickle.load(file)\n",
    "# file.close()\n",
    "\n",
    "\n",
    "data={}\n",
    "results\n",
    "for subno,sub in results.items():   \n",
    "    for meth,val in sub.items():\n",
    "        if meth not in data:\n",
    "            data[meth]=[]\n",
    "        data[meth].append(val['test_likelihood'])\n",
    "\n",
    "#     data[key]=[results[subno]['test_likelihood'] for subno in results.keys()]\n",
    "# print (data)\n",
    "labels, data = data.keys(), data.values()\n",
    "labels=[el.split('_')[0] for el in labels]\n",
    "\n",
    "plt.boxplot(data)\n",
    "plt.xticks(range(1, len(labels) + 1), labels,rotation='vertical')\n",
    "plt.show()"
   ]
  },
  {
   "cell_type": "code",
   "execution_count": null,
   "metadata": {},
   "outputs": [],
   "source": []
  }
 ],
 "metadata": {
  "kernelspec": {
   "display_name": "clone_esp",
   "language": "python",
   "name": "clone_esp"
  },
  "language_info": {
   "codemirror_mode": {
    "name": "ipython",
    "version": 3
   },
   "file_extension": ".py",
   "mimetype": "text/x-python",
   "name": "python",
   "nbconvert_exporter": "python",
   "pygments_lexer": "ipython3",
   "version": "3.8.5"
  }
 },
 "nbformat": 4,
 "nbformat_minor": 2
}
