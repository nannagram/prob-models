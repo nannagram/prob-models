{
 "cells": [
  {
   "cell_type": "markdown",
   "metadata": {},
   "source": [
    "# Notebook to run the gaussian regularized alghorithms "
   ]
  },
  {
   "cell_type": "code",
   "execution_count": 114,
   "metadata": {},
   "outputs": [],
   "source": [
    "\n",
    "\n",
    "from prob_models.utils.utils import read_paths, getdata\n",
    "\n",
    "# read_add_paths('paths.txt')\n",
    "# paths = read_paths('paths.txt')\n",
    "\n",
    "import prob_models.cov_estim.estimators as es \n",
    "import prob_models.cov_estim.run_parallel as run\n",
    "from prob_models.cov_estim.utils import *\n",
    "import numpy as np\n",
    "import os\n",
    "import importlib\n",
    "import matplotlib.pyplot as plt\n",
    "import pickle\n",
    "import sys\n",
    "\n",
    "importlib.reload(run)\n",
    "\n",
    "mod = importlib.reload(sys.modules['prob_models.utils.utils'])#use imp.reload for Python 3  \n",
    "vars().update(mod.__dict__)\n",
    "\n",
    "#importlib.reload(prob_models.utils.utils)\n"
   ]
  },
  {
   "cell_type": "code",
   "execution_count": 116,
   "metadata": {},
   "outputs": [
    {
     "name": "stdout",
     "output_type": "stream",
     "text": [
      "652 183\n"
     ]
    }
   ],
   "source": [
    "# Load data \n",
    "paths = read_paths(os.path.join(os.getcwd(), '../paths.txt'))\n",
    "datadic = getdata(paths,dataset='BIO')\n",
    "T, N = np.shape(list(datadic.values())[0])\n",
    "print (T,N)\n"
   ]
  },
  {
   "cell_type": "code",
   "execution_count": 86,
   "metadata": {},
   "outputs": [
    {
     "name": "stderr",
     "output_type": "stream",
     "text": [
      "[autoreload of __main__ failed: Traceback (most recent call last):\n",
      "  File \"c:\\Users\\Francesca\\anaconda3\\envs\\clone_esp\\lib\\site-packages\\IPython\\extensions\\autoreload.py\", line 245, in check\n",
      "    superreload(m, reload, self.old_objects)\n",
      "  File \"c:\\Users\\Francesca\\anaconda3\\envs\\clone_esp\\lib\\site-packages\\IPython\\extensions\\autoreload.py\", line 394, in superreload\n",
      "    module = reload(module)\n",
      "  File \"c:\\Users\\Francesca\\anaconda3\\envs\\clone_esp\\lib\\imp.py\", line 314, in reload\n",
      "    return importlib.reload(module)\n",
      "  File \"c:\\Users\\Francesca\\anaconda3\\envs\\clone_esp\\lib\\importlib\\__init__.py\", line 148, in reload\n",
      "    raise ImportError(msg.format(name), name=name)\n",
      "ImportError: module prob_models.utils.utils not in sys.modules\n",
      "]\n"
     ]
    }
   ],
   "source": [
    "\n",
    "train_fraction = 0.8\n",
    "if 'results' not in globals():\n",
    "    results={}\n",
    "    TrainTest={}\n",
    "    \n",
    "for i,( key, X) in enumerate(datadic.items()):\n",
    "    if (i<10) & (i not in results):\n",
    "        print (i)\n",
    "        # Compute the corr mat C obtained flattening the training data from all patients\n",
    "        Cbar = computeCbar([el for el in datadic.values()], train_fraction=train_fraction)\n",
    "        Xtrain, Xtest = split_train_test(X, train_fraction=train_fraction, standardize=True, seed=i)\n",
    "        TrainTest[key]={'train':Xtrain,'test':Xtest} #save train and test\n",
    "        key,value=run.single_run(i, Xtrain, Xtest, Cbar=Cbar)\n",
    "        \n",
    "\n",
    "\n",
    "        #adding Raw estimator\n",
    "        J = np.linalg.inv(np.corrcoef(Xtrain.T))\n",
    "        te_lik=impl.likelihood_set_fast(J, Xtest)    \n",
    "        tr_lik=impl.likelihood_set_fast(J, Xtrain)\n",
    "        value['Raw']={'test_likelihood':te_lik,\n",
    "                      'train_likelihood':tr_lik}\n",
    "        \n",
    "        results[key]=value\n",
    "\n"
   ]
  },
  {
   "cell_type": "code",
   "execution_count": 87,
   "metadata": {},
   "outputs": [],
   "source": [
    "#savefile\n",
    "filename='../savedfiles/file_TrainTest.pkl'\n",
    "file = open(filename, \"wb\")\n",
    "pickle.dump(TrainTest, file)\n",
    "file.close()\n",
    "\n",
    "\n",
    "\n",
    "filename='../savedfiles/file_Gaussianresults.pkl'\n",
    "file = open(filename, \"wb\")\n",
    "pickle.dump(results, file)\n",
    "file.close()\n"
   ]
  },
  {
   "cell_type": "code",
   "execution_count": 80,
   "metadata": {},
   "outputs": [
    {
     "data": {
      "image/png": "[encoded data removed]",
      "text/plain": [
       "<Figure size 432x288 with 1 Axes>"
      ]
     },
     "metadata": {
      "needs_background": "light"
     },
     "output_type": "display_data"
    }
   ],
   "source": [
    "# file = open(filename, \"rb\")\n",
    "# results=pickle.load(file)\n",
    "# file.close()\n",
    "\n",
    "\n",
    "data={}\n",
    "results\n",
    "for subno,sub in results.items():   \n",
    "    for meth,val in sub.items():\n",
    "        if meth not in data:\n",
    "            data[meth]=[]\n",
    "        data[meth].append(val['test_likelihood'])\n",
    "\n",
    "#     data[key]=[results[subno]['test_likelihood'] for subno in results.keys()]\n",
    "# print (data)\n",
    "labels, data = data.keys(), data.values()\n",
    "labels=[el.split('_')[0] for el in labels]\n",
    "\n",
    "\n",
    "plt.boxplot(data)\n",
    "plt.xticks(range(1, len(labels) + 1), labels,rotation='vertical')\n",
    "plt.ylabel('test likelihood')\n",
    "plt.show()"
   ]
  },
  {
   "cell_type": "code",
   "execution_count": null,
   "metadata": {},
   "outputs": [],
   "source": []
  }
 ],
 "metadata": {
  "kernelspec": {
   "display_name": "covest",
   "language": "python",
   "name": "python3"
  },
  "language_info": {
   "codemirror_mode": {
    "name": "ipython",
    "version": 3
   },
   "file_extension": ".py",
   "mimetype": "text/x-python",
   "name": "python",
   "nbconvert_exporter": "python",
   "pygments_lexer": "ipython3",
   "version": "3.12.0"
  }
 },
 "nbformat": 4,
 "nbformat_minor": 2
}
